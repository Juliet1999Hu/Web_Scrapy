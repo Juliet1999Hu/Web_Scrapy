{
 "cells": [
  {
   "cell_type": "markdown",
   "metadata": {},
   "source": [
    "This exercise will require you to pull some data from the Qunadl API. Qaundl is currently the most widely used aggregator of financial market data."
   ]
  },
  {
   "cell_type": "markdown",
   "metadata": {},
   "source": [
    "As a first step, you will need to register a free account on the http://www.quandl.com website."
   ]
  },
  {
   "cell_type": "markdown",
   "metadata": {},
   "source": [
    "After you register, you will be provided with a unique API key, that you should store:"
   ]
  },
  {
   "cell_type": "code",
   "execution_count": 1,
   "metadata": {},
   "outputs": [],
   "source": [
    "# Store the API key as a string - according to PEP8, constants are always named in all upper case\n",
    "API_KEY = 'pwQdX9bBKeJhWMxyLmex'"
   ]
  },
  {
   "cell_type": "markdown",
   "metadata": {},
   "source": [
    "Qaundl has a large number of data sources, but, unfortunately, most of them require a Premium subscription. Still, there are also a good number of free datasets."
   ]
  },
  {
   "cell_type": "markdown",
   "metadata": {},
   "source": [
    "For this mini project, we will focus on equities data from the Frankfurt Stock Exhange (FSE), which is available for free. We'll try and analyze the stock prices of a company called Carl Zeiss Meditec, which manufactures tools for eye examinations, as well as medical lasers for laser eye surgery: https://www.zeiss.com/meditec/int/home.html. The company is listed under the stock ticker AFX_X."
   ]
  },
  {
   "cell_type": "markdown",
   "metadata": {},
   "source": [
    "You can find the detailed Quandl API instructions here: https://docs.quandl.com/docs/time-series"
   ]
  },
  {
   "cell_type": "markdown",
   "metadata": {},
   "source": [
    "While there is a dedicated Python package for connecting to the Quandl API, we would prefer that you use the *requests* package, which can be easily downloaded using *pip* or *conda*. You can find the documentation for the package here: http://docs.python-requests.org/en/master/ "
   ]
  },
  {
   "cell_type": "markdown",
   "metadata": {},
   "source": [
    "Finally, apart from the *requests* package, you are encouraged to not use any third party Python packages, such as *pandas*, and instead focus on what's available in the Python Standard Library (the *collections* module might come in handy: https://pymotw.com/3/collections/ ).\n",
    "Also, since you won't have access to DataFrames, you are encouraged to us Python's native data structures - preferably dictionaries, though some questions can also be answered using lists.\n",
    "You can read more on these data structures here: https://docs.python.org/3/tutorial/datastructures.html"
   ]
  },
  {
   "cell_type": "markdown",
   "metadata": {},
   "source": [
    "Keep in mind that the JSON responses you will be getting from the API map almost one-to-one to Python's dictionaries. Unfortunately, they can be very nested, so make sure you read up on indexing dictionaries in the documentation provided above."
   ]
  },
  {
   "cell_type": "code",
   "execution_count": 2,
   "metadata": {},
   "outputs": [],
   "source": [
    "# First, import the relevant modules\n",
    "import requests\n"
   ]
  },
  {
   "cell_type": "code",
   "execution_count": 3,
   "metadata": {},
   "outputs": [
    {
     "data": {
      "text/plain": [
       "{'dataset_data': {'limit': None,\n",
       "  'transform': None,\n",
       "  'column_index': None,\n",
       "  'column_names': ['Date',\n",
       "   'Open',\n",
       "   'High',\n",
       "   'Low',\n",
       "   'Close',\n",
       "   'Change',\n",
       "   'Traded Volume',\n",
       "   'Turnover',\n",
       "   'Last Price of the Day',\n",
       "   'Daily Traded Units',\n",
       "   'Daily Turnover'],\n",
       "  'start_date': '2014-01-01',\n",
       "  'end_date': '2014-01-04',\n",
       "  'frequency': 'daily',\n",
       "  'data': [['2014-01-03',\n",
       "    24.04,\n",
       "    24.47,\n",
       "    24.03,\n",
       "    24.47,\n",
       "    None,\n",
       "    20503.0,\n",
       "    499475.0,\n",
       "    None,\n",
       "    None,\n",
       "    None],\n",
       "   ['2014-01-02',\n",
       "    24.24,\n",
       "    24.76,\n",
       "    23.77,\n",
       "    24.18,\n",
       "    None,\n",
       "    55735.0,\n",
       "    1355658.0,\n",
       "    None,\n",
       "    None,\n",
       "    None]],\n",
       "  'collapse': None,\n",
       "  'order': None}}"
      ]
     },
     "execution_count": 3,
     "metadata": {},
     "output_type": "execute_result"
    }
   ],
   "source": [
    "# Now, call the Quandl API and pull out a small sample of the data (only one day) to get a glimpse\n",
    "# into the JSON structure that will be returned\n",
    "url = \"https://www.quandl.com/api/v3/datasets/FSE/AFX_X/data.json?start_date=2014-01-01&end_date=2014-01-04&api_key=pwQdX9bBKeJhWMxyLmex\"\n",
    "r = requests.get(url)\n",
    "r.json()"
   ]
  },
  {
   "cell_type": "code",
   "execution_count": 4,
   "metadata": {},
   "outputs": [
    {
     "data": {
      "text/plain": [
       "[['2014-01-03',\n",
       "  24.04,\n",
       "  24.47,\n",
       "  24.03,\n",
       "  24.47,\n",
       "  None,\n",
       "  20503.0,\n",
       "  499475.0,\n",
       "  None,\n",
       "  None,\n",
       "  None],\n",
       " ['2014-01-02',\n",
       "  24.24,\n",
       "  24.76,\n",
       "  23.77,\n",
       "  24.18,\n",
       "  None,\n",
       "  55735.0,\n",
       "  1355658.0,\n",
       "  None,\n",
       "  None,\n",
       "  None]]"
      ]
     },
     "execution_count": 4,
     "metadata": {},
     "output_type": "execute_result"
    }
   ],
   "source": [
    "# Inspect the JSON structure of the object you created, and take note of how nested it is,\n",
    "# as well as the overall structure\n",
    "json_data = r.json()\n",
    "json_data['dataset_data']['column_names']\n",
    "json_data['dataset_data']['data']"
   ]
  },
  {
   "cell_type": "markdown",
   "metadata": {},
   "source": [
    "These are your tasks for this mini project:\n",
    "\n",
    "1. Collect data from the Franfurt Stock Exchange, for the ticker AFX_X, for the whole year 2017 (keep in mind that the date format is YYYY-MM-DD).\n",
    "2. Convert the returned JSON object into a Python dictionary.\n",
    "3. Calculate what the highest and lowest opening prices were for the stock in this period.\n",
    "4. What was the largest change in any one day (based on High and Low price)?\n",
    "5. What was the largest change between any two days (based on Closing Price)?\n",
    "6. What was the average daily trading volume during this year?\n",
    "7. (Optional) What was the median trading volume during this year. (Note: you may need to implement your own function for calculating the median.)"
   ]
  },
  {
   "cell_type": "code",
   "execution_count": 5,
   "metadata": {},
   "outputs": [
    {
     "data": {
      "text/plain": [
       "255"
      ]
     },
     "execution_count": 5,
     "metadata": {},
     "output_type": "execute_result"
    }
   ],
   "source": [
    "# question 1\n",
    "#Collect data from the Franfurt Stock Exchange, for the ticker AFX_X, for the whole year 2017 (keep in mind that the date format is YYYY-MM-DD).\n",
    "url = \"https://www.quandl.com/api/v3/datasets/FSE/AFX_X/data.json?start_date=2017-01-01&end_date=2017-12-31&api_key=pwQdX9bBKeJhWMxyLmex\"\n",
    "r = requests.get(url)\n",
    "json_data = r.json()\n",
    "len(json_data['dataset_data']['data'])\n"
   ]
  },
  {
   "cell_type": "code",
   "execution_count": 6,
   "metadata": {},
   "outputs": [
    {
     "data": {
      "text/plain": [
       "dict"
      ]
     },
     "execution_count": 6,
     "metadata": {},
     "output_type": "execute_result"
    }
   ],
   "source": [
    "#question 2\n",
    "#Convert the returned JSON object into a Python dictionary.\n",
    "type(json_data)"
   ]
  },
  {
   "cell_type": "code",
   "execution_count": 7,
   "metadata": {},
   "outputs": [
    {
     "data": {
      "text/plain": [
       "34.0"
      ]
     },
     "execution_count": 7,
     "metadata": {},
     "output_type": "execute_result"
    }
   ],
   "source": [
    "#question 3\n",
    "#Calculate what the highest and lowest opening prices were for the stock in this period.\n",
    "import math\n",
    "open_price = []\n",
    "for i in range(0,len(json_data['dataset_data']['data'])):\n",
    "    open_price.append(json_data['dataset_data']['data'][i][1])\n",
    "#remove none element from the lsit\n",
    "open_price_clean= list(filter(lambda x:x != None, open_price))\n",
    "max(open_price_clean)\n",
    "min(open_price_clean)"
   ]
  },
  {
   "cell_type": "code",
   "execution_count": 8,
   "metadata": {},
   "outputs": [
    {
     "data": {
      "text/plain": [
       "2.8100000000000023"
      ]
     },
     "execution_count": 8,
     "metadata": {},
     "output_type": "execute_result"
    }
   ],
   "source": [
    "#question 4\n",
    "#What was the largest change in any one day (based on High and Low price)?\n",
    "import numpy as np\n",
    "high_price = []\n",
    "low_price = []\n",
    "change = []\n",
    "for i in range(0,len(json_data['dataset_data']['data'])):\n",
    "    high_price.append(json_data['dataset_data']['data'][i][2])\n",
    "    low_price.append(json_data['dataset_data']['data'][i][3])\n",
    "    \n",
    "change = [a_i - b_i for a_i, b_i in zip(high_price, low_price)]\n",
    "\n",
    "max(change)\n"
   ]
  },
  {
   "cell_type": "code",
   "execution_count": 9,
   "metadata": {},
   "outputs": [
    {
     "data": {
      "text/plain": [
       "2.559999999999995"
      ]
     },
     "execution_count": 9,
     "metadata": {},
     "output_type": "execute_result"
    }
   ],
   "source": [
    "#question 5\n",
    "#What was the largest change between any two days (based on Closing Price)?\n",
    "\n",
    "close_price = []\n",
    "\n",
    "for i in range(0,len(json_data['dataset_data']['data'])):\n",
    "    close_price.append(json_data['dataset_data']['data'][i][4])\n",
    "difference = [close_price[i+1]-close_price[i] for i in range(len(close_price)-1)]\n",
    "max(difference) "
   ]
  },
  {
   "cell_type": "code",
   "execution_count": 10,
   "metadata": {},
   "outputs": [
    {
     "data": {
      "text/plain": [
       "89124.33725490196"
      ]
     },
     "execution_count": 10,
     "metadata": {},
     "output_type": "execute_result"
    }
   ],
   "source": [
    "#question 6\n",
    "#What was the average daily trading volume during this year?\n",
    "import statistics\n",
    "trade_volume = []\n",
    "difference = []\n",
    "for i in range(0,len(json_data['dataset_data']['data'])):\n",
    "    trade_volume.append(json_data['dataset_data']['data'][i][6])\n",
    "sum(trade_volume) / len(trade_volume)"
   ]
  },
  {
   "cell_type": "code",
   "execution_count": 11,
   "metadata": {},
   "outputs": [
    {
     "name": "stdout",
     "output_type": "stream",
     "text": [
      "76286.0\n"
     ]
    },
    {
     "data": {
      "text/plain": [
       "76286.0"
      ]
     },
     "execution_count": 11,
     "metadata": {},
     "output_type": "execute_result"
    }
   ],
   "source": [
    "#question 7\n",
    "#What was the median trading volume during this year. \n",
    "\n",
    "import statistics\n",
    "trade_volume = []\n",
    "\n",
    "for i in range(0,len(json_data['dataset_data']['data'])):\n",
    "    trade_volume.append(json_data['dataset_data']['data'][i][6])\n",
    "trade_volume    \n",
    "def getMedian(numericValues):\n",
    "    theValues = sorted(numericValues)\n",
    "    if int(len(theValues) % 2) == 1:\n",
    "        return theValues[int((len(theValues)+1)/2)-1]\n",
    "    else:\n",
    "        lower = theValues[len(theValues)/2-1]\n",
    "        upper = theValues[len(theValues)/2]\n",
    "        return float(lower + upper) / 2 \n",
    "median_value = getMedian(trade_volume)\n",
    "print(median_value)\n",
    "\n",
    "statistics.median(trade_volume)"
   ]
  },
  {
   "cell_type": "code",
   "execution_count": null,
   "metadata": {},
   "outputs": [],
   "source": []
  }
 ],
 "metadata": {
  "kernelspec": {
   "display_name": "Python 3",
   "language": "python",
   "name": "python3"
  },
  "language_info": {
   "codemirror_mode": {
    "name": "ipython",
    "version": 3
   },
   "file_extension": ".py",
   "mimetype": "text/x-python",
   "name": "python",
   "nbconvert_exporter": "python",
   "pygments_lexer": "ipython3",
   "version": "3.7.1"
  }
 },
 "nbformat": 4,
 "nbformat_minor": 2
}
